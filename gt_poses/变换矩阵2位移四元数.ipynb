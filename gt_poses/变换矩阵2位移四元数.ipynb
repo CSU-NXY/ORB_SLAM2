{
 "cells": [
  {
   "cell_type": "code",
   "execution_count": 4,
   "metadata": {
    "ExecuteTime": {
     "end_time": "2021-03-09T13:02:41.563464Z",
     "start_time": "2021-03-09T13:02:41.561350Z"
    }
   },
   "outputs": [],
   "source": [
    "import torch\n",
    "import numpy as np\n",
    "from kornia.geometry.conversions import *"
   ]
  },
  {
   "cell_type": "code",
   "execution_count": 43,
   "metadata": {
    "ExecuteTime": {
     "end_time": "2021-03-09T13:20:57.390632Z",
     "start_time": "2021-03-09T13:20:57.341130Z"
    }
   },
   "outputs": [],
   "source": [
    "for seq in [\"09\", \"10\"]:\n",
    "    matrix = np.loadtxt(seq + '.txt').reshape(-1, 3, 4)\n",
    "    gt = np.stack([np.eye(4)] * matrix.shape[0])\n",
    "    \n",
    "    gt[:, :3, :4] = matrix\n",
    "    \n",
    "    # T12 = T10 @ T02\n",
    "    gt = np.linalg.inv(gt[:-1]) @ gt[1:]\n",
    "    \n",
    "    trans = gt[:, :3, 3]\n",
    "    rots = gt[:, :3, :3]\n",
    "\n",
    "    rots = rotation_matrix_to_quaternion(torch.Tensor(rots)).numpy()\n",
    "    \n",
    "    result = np.hstack([trans, rots])\n",
    "    \n",
    "    np.savetxt(seq + '_transQuat.txt', result)"
   ]
  },
  {
   "cell_type": "code",
   "execution_count": 42,
   "metadata": {
    "ExecuteTime": {
     "end_time": "2021-03-09T13:20:33.436883Z",
     "start_time": "2021-03-09T13:20:33.425325Z"
    }
   },
   "outputs": [
    {
     "data": {
      "text/plain": [
       "(1200, 7)"
      ]
     },
     "execution_count": 42,
     "metadata": {},
     "output_type": "execute_result"
    }
   ],
   "source": [
    "result.shape"
   ]
  },
  {
   "cell_type": "code",
   "execution_count": 45,
   "metadata": {
    "ExecuteTime": {
     "end_time": "2021-03-09T13:22:08.791729Z",
     "start_time": "2021-03-09T13:22:08.785190Z"
    }
   },
   "outputs": [],
   "source": [
    "a=torch.Tensor([-5.640001618303358555e-04, 5.848103202879428864e-03, 1.542935962788760662e-03, 9.999815225601196289e-01])"
   ]
  },
  {
   "cell_type": "code",
   "execution_count": 46,
   "metadata": {
    "ExecuteTime": {
     "end_time": "2021-03-09T13:22:20.949679Z",
     "start_time": "2021-03-09T13:22:20.944795Z"
    }
   },
   "outputs": [
    {
     "data": {
      "text/plain": [
       "tensor([[ 0.9999, -0.0031,  0.0117],\n",
       "        [ 0.0031,  1.0000,  0.0011],\n",
       "        [-0.0117, -0.0011,  0.9999]])"
      ]
     },
     "execution_count": 46,
     "metadata": {},
     "output_type": "execute_result"
    }
   ],
   "source": [
    "quaternion_to_rotation_matrix(a)"
   ]
  },
  {
   "cell_type": "code",
   "execution_count": null,
   "metadata": {},
   "outputs": [],
   "source": []
  }
 ],
 "metadata": {
  "kernelspec": {
   "display_name": "Python [conda env:torch]",
   "language": "python",
   "name": "conda-env-torch-py"
  },
  "language_info": {
   "codemirror_mode": {
    "name": "ipython",
    "version": 3
   },
   "file_extension": ".py",
   "mimetype": "text/x-python",
   "name": "python",
   "nbconvert_exporter": "python",
   "pygments_lexer": "ipython3",
   "version": "3.6.10"
  },
  "toc": {
   "base_numbering": 1,
   "nav_menu": {},
   "number_sections": true,
   "sideBar": true,
   "skip_h1_title": false,
   "title_cell": "Table of Contents",
   "title_sidebar": "Contents",
   "toc_cell": false,
   "toc_position": {},
   "toc_section_display": true,
   "toc_window_display": false
  }
 },
 "nbformat": 4,
 "nbformat_minor": 4
}
