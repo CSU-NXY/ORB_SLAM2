{
 "cells": [
  {
   "cell_type": "code",
   "execution_count": 1,
   "metadata": {
    "ExecuteTime": {
     "end_time": "2021-03-15T01:48:59.269288Z",
     "start_time": "2021-03-15T01:48:59.095499Z"
    }
   },
   "outputs": [],
   "source": [
    "import numpy as np\n",
    "import cv2 as cv"
   ]
  },
  {
   "cell_type": "code",
   "execution_count": 2,
   "metadata": {
    "ExecuteTime": {
     "end_time": "2021-03-11T00:49:47.766026Z",
     "start_time": "2021-03-11T00:49:41.961006Z"
    }
   },
   "outputs": [],
   "source": [
    "pred = np.load('../09/predictions.npy')"
   ]
  },
  {
   "cell_type": "code",
   "execution_count": 3,
   "metadata": {
    "ExecuteTime": {
     "end_time": "2021-03-11T00:49:47.781601Z",
     "start_time": "2021-03-11T00:49:47.773099Z"
    }
   },
   "outputs": [
    {
     "data": {
      "text/plain": [
       "(1591, 256, 832)"
      ]
     },
     "execution_count": 3,
     "metadata": {},
     "output_type": "execute_result"
    }
   ],
   "source": [
    "pred.shape"
   ]
  },
  {
   "cell_type": "code",
   "execution_count": 4,
   "metadata": {
    "ExecuteTime": {
     "end_time": "2021-03-11T00:49:55.250777Z",
     "start_time": "2021-03-11T00:49:54.882852Z"
    }
   },
   "outputs": [],
   "source": [
    "pred *= (255.0 / pred.max())"
   ]
  },
  {
   "cell_type": "code",
   "execution_count": 5,
   "metadata": {
    "ExecuteTime": {
     "end_time": "2021-03-11T00:51:25.921071Z",
     "start_time": "2021-03-11T00:51:21.274655Z"
    }
   },
   "outputs": [],
   "source": [
    "for idx, p in enumerate(pred):\n",
    "    p = cv.resize(p, (1226, 370))\n",
    "    cv.imwrite('predictions/' + '{:06d}.png'.format(idx), p)"
   ]
  },
  {
   "cell_type": "code",
   "execution_count": null,
   "metadata": {},
   "outputs": [],
   "source": []
  }
 ],
 "metadata": {
  "kernelspec": {
   "display_name": "Python [conda env:torch]",
   "language": "python",
   "name": "conda-env-torch-py"
  },
  "language_info": {
   "codemirror_mode": {
    "name": "ipython",
    "version": 3
   },
   "file_extension": ".py",
   "mimetype": "text/x-python",
   "name": "python",
   "nbconvert_exporter": "python",
   "pygments_lexer": "ipython3",
   "version": "3.6.10"
  },
  "toc": {
   "base_numbering": 1,
   "nav_menu": {},
   "number_sections": true,
   "sideBar": true,
   "skip_h1_title": false,
   "title_cell": "Table of Contents",
   "title_sidebar": "Contents",
   "toc_cell": false,
   "toc_position": {},
   "toc_section_display": true,
   "toc_window_display": false
  }
 },
 "nbformat": 4,
 "nbformat_minor": 4
}
