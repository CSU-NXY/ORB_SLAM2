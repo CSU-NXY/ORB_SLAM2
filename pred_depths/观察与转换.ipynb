{
 "cells": [
  {
   "cell_type": "code",
   "execution_count": 2,
   "metadata": {
    "ExecuteTime": {
     "end_time": "2021-03-16T06:30:51.088656Z",
     "start_time": "2021-03-16T06:30:50.395907Z"
    }
   },
   "outputs": [],
   "source": [
    "import numpy as np\n",
    "import pandas as pd\n",
    "import cv2 as cv\n",
    "import os"
   ]
  },
  {
   "cell_type": "markdown",
   "metadata": {},
   "source": [
    "## 深度图"
   ]
  },
  {
   "cell_type": "code",
   "execution_count": 3,
   "metadata": {
    "ExecuteTime": {
     "end_time": "2021-03-16T02:35:42.769206Z",
     "start_time": "2021-03-16T02:19:10.707254Z"
    }
   },
   "outputs": [
    {
     "name": "stdout",
     "output_type": "stream",
     "text": [
      "enter folder  00_2\n",
      "enter folder  01_2\n",
      "enter folder  02_2\n",
      "enter folder  03_2\n",
      "enter folder  04_2\n",
      "enter folder  05_2\n",
      "enter folder  06_2\n",
      "enter folder  07_2\n",
      "enter folder  08_2\n"
     ]
    }
   ],
   "source": [
    "factor_list = []\n",
    "base_path = '/media/dl/96D5-6CCE/couple_resnet50_pose_256_standard/'\n",
    "for i in range(9):\n",
    "    folder = '0{}_2'.format(i)\n",
    "    folder_path = base_path + folder\n",
    "    print('enter folder ', folder)\n",
    "    \n",
    "    pred = np.load(folder_path+'/'+'predictions.npy')\n",
    "    factor = 255 / pred.max()\n",
    "    pred *= factor\n",
    "    factor_list.append(factor)\n",
    "    \n",
    "    os.mkdir(folder[:-2])\n",
    "    os.mkdir(folder[:-2]+'/predictions')\n",
    "    for idx, p in enumerate(pred):\n",
    "        # 缩放大小\n",
    "        p = cv.resize(p, (1226, 370))\n",
    "        cv.imwrite(folder[:-2]+'/predictions/{:06d}.png'.format(idx), p)"
   ]
  },
  {
   "cell_type": "code",
   "execution_count": 4,
   "metadata": {
    "ExecuteTime": {
     "end_time": "2021-03-16T02:59:17.138742Z",
     "start_time": "2021-03-16T02:59:17.118368Z"
    }
   },
   "outputs": [
    {
     "data": {
      "text/plain": [
       "[30.667403148643963,\n",
       " 13.763949551671653,\n",
       " 15.33877877137352,\n",
       " 10.7064480244513,\n",
       " 33.12895539674738,\n",
       " 26.994588601566267,\n",
       " 29.355663176311253,\n",
       " 33.90186791468177,\n",
       " 32.13311694691088]"
      ]
     },
     "execution_count": 4,
     "metadata": {},
     "output_type": "execute_result"
    }
   ],
   "source": [
    "factor_list"
   ]
  },
  {
   "cell_type": "markdown",
   "metadata": {},
   "source": [
    "## 不确定性"
   ]
  },
  {
   "cell_type": "markdown",
   "metadata": {},
   "source": [
    "### 观察"
   ]
  },
  {
   "cell_type": "code",
   "execution_count": 3,
   "metadata": {
    "ExecuteTime": {
     "end_time": "2021-03-16T06:30:52.046377Z",
     "start_time": "2021-03-16T06:30:52.040894Z"
    }
   },
   "outputs": [],
   "source": [
    "factor_list=[30.667403148643963,\n",
    " 13.763949551671653,\n",
    " 15.33877877137352,\n",
    " 10.7064480244513,\n",
    " 33.12895539674738,\n",
    " 26.994588601566267,\n",
    " 29.355663176311253,\n",
    " 33.90186791468177,\n",
    " 32.13311694691088]"
   ]
  },
  {
   "cell_type": "code",
   "execution_count": 4,
   "metadata": {
    "ExecuteTime": {
     "end_time": "2021-03-16T06:31:50.789977Z",
     "start_time": "2021-03-16T06:30:53.068153Z"
    }
   },
   "outputs": [
    {
     "name": "stdout",
     "output_type": "stream",
     "text": [
      "enter folder  01_2\n"
     ]
    }
   ],
   "source": [
    "uncert_factor_list = []\n",
    "base_path = '/media/dl/96D5-6CCE/couple_resnet50_pose_256_standard/'\n",
    "for i in range(1,2):\n",
    "    folder = '0{}_2'.format(i)\n",
    "    folder_path = base_path + folder\n",
    "    print('enter folder ', folder)\n",
    "    \n",
    "    uncert = np.exp(np.load(folder_path+'/'+'uncertatinty.npy', mmap_mode='r'))\n",
    "    uncert = uncert * factor_list[i] * factor_list[i]\n",
    "    uncert = 1/uncert\n",
    "    \n",
    "    factor = 255 / uncert.max()\n",
    "    uncert_factor_list.append(factor)\n",
    "    uncert = uncert * factor\n",
    "    \n",
    "    os.mkdir(folder[:-2]+'/uncertainties')\n",
    "    for idx, p in enumerate(uncert):\n",
    "        # 缩放大小\n",
    "        p = cv.resize(p, (1226, 370))\n",
    "        cv.imwrite(folder[:-2]+'/uncertainties/{:06d}.png'.format(idx), p)"
   ]
  },
  {
   "cell_type": "code",
   "execution_count": 5,
   "metadata": {
    "ExecuteTime": {
     "end_time": "2021-03-16T06:31:50.797484Z",
     "start_time": "2021-03-16T06:31:50.791136Z"
    }
   },
   "outputs": [
    {
     "data": {
      "text/plain": [
       "[30.007477891048925]"
      ]
     },
     "execution_count": 5,
     "metadata": {},
     "output_type": "execute_result"
    }
   ],
   "source": [
    "uncert_factor_list"
   ]
  },
  {
   "cell_type": "markdown",
   "metadata": {
    "ExecuteTime": {
     "end_time": "2021-03-11T07:04:05.278454Z",
     "start_time": "2021-03-11T07:04:05.274057Z"
    }
   },
   "source": [
    "## 修改"
   ]
  },
  {
   "cell_type": "code",
   "execution_count": null,
   "metadata": {
    "ExecuteTime": {
     "end_time": "2021-03-15T01:52:07.095799Z",
     "start_time": "2021-03-15T01:51:54.644877Z"
    }
   },
   "outputs": [],
   "source": [
    "uncert = np.exp(np.load('uncertatinty.npy'))"
   ]
  },
  {
   "cell_type": "code",
   "execution_count": null,
   "metadata": {
    "ExecuteTime": {
     "end_time": "2021-03-15T01:52:09.679165Z",
     "start_time": "2021-03-15T01:52:07.159443Z"
    }
   },
   "outputs": [],
   "source": [
    "uncert = 1.0 / uncert\n",
    "uncert = uncert / uncert.max() * 255"
   ]
  },
  {
   "cell_type": "code",
   "execution_count": null,
   "metadata": {
    "ExecuteTime": {
     "end_time": "2021-03-11T07:18:38.295235Z",
     "start_time": "2021-03-11T07:18:38.280856Z"
    }
   },
   "outputs": [],
   "source": [
    "for idx, arr in enumerate(uncert):\n",
    "    cv.imwrite('uncertainties/{:06d}.png'.format(idx), arr)\n",
    "    break"
   ]
  },
  {
   "cell_type": "code",
   "execution_count": null,
   "metadata": {
    "ExecuteTime": {
     "end_time": "2021-03-11T08:16:00.714103Z",
     "start_time": "2021-03-11T08:16:00.697094Z"
    }
   },
   "outputs": [],
   "source": [
    "img = cv.imread('../09_resized/uncertainties/{:06d}.png'.format(0))"
   ]
  },
  {
   "cell_type": "code",
   "execution_count": null,
   "metadata": {
    "ExecuteTime": {
     "end_time": "2021-03-11T08:16:12.196854Z",
     "start_time": "2021-03-11T08:16:12.193322Z"
    }
   },
   "outputs": [],
   "source": [
    "img"
   ]
  },
  {
   "cell_type": "code",
   "execution_count": null,
   "metadata": {},
   "outputs": [],
   "source": []
  }
 ],
 "metadata": {
  "kernelspec": {
   "display_name": "Python [conda env:torch]",
   "language": "python",
   "name": "conda-env-torch-py"
  },
  "language_info": {
   "codemirror_mode": {
    "name": "ipython",
    "version": 3
   },
   "file_extension": ".py",
   "mimetype": "text/x-python",
   "name": "python",
   "nbconvert_exporter": "python",
   "pygments_lexer": "ipython3",
   "version": "3.6.10"
  },
  "toc": {
   "base_numbering": 1,
   "nav_menu": {},
   "number_sections": true,
   "sideBar": true,
   "skip_h1_title": false,
   "title_cell": "Table of Contents",
   "title_sidebar": "Contents",
   "toc_cell": false,
   "toc_position": {},
   "toc_section_display": true,
   "toc_window_display": false
  }
 },
 "nbformat": 4,
 "nbformat_minor": 4
}
