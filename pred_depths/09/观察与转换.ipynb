{
 "cells": [
  {
   "cell_type": "code",
   "execution_count": 2,
   "metadata": {
    "ExecuteTime": {
     "end_time": "2021-03-11T08:15:15.656286Z",
     "start_time": "2021-03-11T08:15:14.959353Z"
    }
   },
   "outputs": [],
   "source": [
    "import numpy as np\n",
    "import pandas as pd\n",
    "import cv2 as cv"
   ]
  },
  {
   "cell_type": "markdown",
   "metadata": {},
   "source": [
    "## 深度图"
   ]
  },
  {
   "cell_type": "code",
   "execution_count": null,
   "metadata": {
    "ExecuteTime": {
     "end_time": "2021-03-10T13:29:19.040573Z",
     "start_time": "2021-03-10T13:29:13.921367Z"
    }
   },
   "outputs": [],
   "source": [
    "pred = np.load('predictions.npy')"
   ]
  },
  {
   "cell_type": "code",
   "execution_count": null,
   "metadata": {
    "ExecuteTime": {
     "end_time": "2021-03-10T13:29:19.073006Z",
     "start_time": "2021-03-10T13:29:19.045274Z"
    }
   },
   "outputs": [],
   "source": [
    "pred.shape"
   ]
  },
  {
   "cell_type": "code",
   "execution_count": null,
   "metadata": {
    "ExecuteTime": {
     "end_time": "2021-03-10T13:29:19.457385Z",
     "start_time": "2021-03-10T13:29:19.076702Z"
    }
   },
   "outputs": [],
   "source": [
    "pred *= (255.0 / pred.max())"
   ]
  },
  {
   "cell_type": "code",
   "execution_count": null,
   "metadata": {
    "ExecuteTime": {
     "end_time": "2021-03-10T13:29:23.665264Z",
     "start_time": "2021-03-10T13:29:21.287934Z"
    }
   },
   "outputs": [],
   "source": [
    "for idx, p in enumerate(pred):\n",
    "    cv.imwrite('predictions/' + '{:06d}.png'.format(idx), p)"
   ]
  },
  {
   "cell_type": "markdown",
   "metadata": {},
   "source": [
    "## 不确定性"
   ]
  },
  {
   "cell_type": "markdown",
   "metadata": {},
   "source": [
    "### 观察"
   ]
  },
  {
   "cell_type": "code",
   "execution_count": 2,
   "metadata": {
    "ExecuteTime": {
     "end_time": "2021-03-11T07:12:33.020518Z",
     "start_time": "2021-03-11T07:12:24.462620Z"
    }
   },
   "outputs": [
    {
     "name": "stdout",
     "output_type": "stream",
     "text": [
      "uncert的shape是 (1591, 212992)\n"
     ]
    }
   ],
   "source": [
    "uncert = np.load('uncertatinty.npy').reshape(-1, 256*832)\n",
    "print('uncert的shape是', uncert.shape)\n",
    "\n",
    "uncert = np.exp(uncert) # 模型输出时没有做exp\n",
    "uncert = pd.DataFrame(uncert)"
   ]
  },
  {
   "cell_type": "code",
   "execution_count": 6,
   "metadata": {
    "ExecuteTime": {
     "end_time": "2021-03-11T07:12:45.026787Z",
     "start_time": "2021-03-11T07:12:45.005343Z"
    }
   },
   "outputs": [
    {
     "data": {
      "text/html": [
       "<div>\n",
       "<style scoped>\n",
       "    .dataframe tbody tr th:only-of-type {\n",
       "        vertical-align: middle;\n",
       "    }\n",
       "\n",
       "    .dataframe tbody tr th {\n",
       "        vertical-align: top;\n",
       "    }\n",
       "\n",
       "    .dataframe thead th {\n",
       "        text-align: right;\n",
       "    }\n",
       "</style>\n",
       "<table border=\"1\" class=\"dataframe\">\n",
       "  <thead>\n",
       "    <tr style=\"text-align: right;\">\n",
       "      <th></th>\n",
       "      <th>0</th>\n",
       "      <th>1</th>\n",
       "      <th>2</th>\n",
       "      <th>3</th>\n",
       "      <th>4</th>\n",
       "      <th>5</th>\n",
       "      <th>6</th>\n",
       "      <th>7</th>\n",
       "      <th>8</th>\n",
       "      <th>9</th>\n",
       "      <th>...</th>\n",
       "      <th>212982</th>\n",
       "      <th>212983</th>\n",
       "      <th>212984</th>\n",
       "      <th>212985</th>\n",
       "      <th>212986</th>\n",
       "      <th>212987</th>\n",
       "      <th>212988</th>\n",
       "      <th>212989</th>\n",
       "      <th>212990</th>\n",
       "      <th>212991</th>\n",
       "    </tr>\n",
       "  </thead>\n",
       "  <tbody>\n",
       "    <tr>\n",
       "      <th>0</th>\n",
       "      <td>0.029906</td>\n",
       "      <td>0.029966</td>\n",
       "      <td>0.030309</td>\n",
       "      <td>0.030796</td>\n",
       "      <td>0.031416</td>\n",
       "      <td>0.032287</td>\n",
       "      <td>0.033070</td>\n",
       "      <td>0.034066</td>\n",
       "      <td>0.034605</td>\n",
       "      <td>0.035202</td>\n",
       "      <td>...</td>\n",
       "      <td>0.001995</td>\n",
       "      <td>0.002029</td>\n",
       "      <td>0.002075</td>\n",
       "      <td>0.002117</td>\n",
       "      <td>0.002136</td>\n",
       "      <td>0.002145</td>\n",
       "      <td>0.002170</td>\n",
       "      <td>0.002176</td>\n",
       "      <td>0.002229</td>\n",
       "      <td>0.002250</td>\n",
       "    </tr>\n",
       "    <tr>\n",
       "      <th>1</th>\n",
       "      <td>0.036382</td>\n",
       "      <td>0.036422</td>\n",
       "      <td>0.037247</td>\n",
       "      <td>0.038167</td>\n",
       "      <td>0.039070</td>\n",
       "      <td>0.040425</td>\n",
       "      <td>0.041987</td>\n",
       "      <td>0.043970</td>\n",
       "      <td>0.045392</td>\n",
       "      <td>0.046388</td>\n",
       "      <td>...</td>\n",
       "      <td>0.002016</td>\n",
       "      <td>0.002039</td>\n",
       "      <td>0.002079</td>\n",
       "      <td>0.002113</td>\n",
       "      <td>0.002131</td>\n",
       "      <td>0.002137</td>\n",
       "      <td>0.002159</td>\n",
       "      <td>0.002165</td>\n",
       "      <td>0.002215</td>\n",
       "      <td>0.002237</td>\n",
       "    </tr>\n",
       "    <tr>\n",
       "      <th>2</th>\n",
       "      <td>0.052094</td>\n",
       "      <td>0.052163</td>\n",
       "      <td>0.053443</td>\n",
       "      <td>0.054901</td>\n",
       "      <td>0.056389</td>\n",
       "      <td>0.058324</td>\n",
       "      <td>0.059946</td>\n",
       "      <td>0.062324</td>\n",
       "      <td>0.064029</td>\n",
       "      <td>0.065721</td>\n",
       "      <td>...</td>\n",
       "      <td>0.002488</td>\n",
       "      <td>0.002516</td>\n",
       "      <td>0.002557</td>\n",
       "      <td>0.002587</td>\n",
       "      <td>0.002587</td>\n",
       "      <td>0.002582</td>\n",
       "      <td>0.002600</td>\n",
       "      <td>0.002603</td>\n",
       "      <td>0.002661</td>\n",
       "      <td>0.002683</td>\n",
       "    </tr>\n",
       "    <tr>\n",
       "      <th>3</th>\n",
       "      <td>0.058165</td>\n",
       "      <td>0.058295</td>\n",
       "      <td>0.058967</td>\n",
       "      <td>0.060233</td>\n",
       "      <td>0.061705</td>\n",
       "      <td>0.063699</td>\n",
       "      <td>0.065276</td>\n",
       "      <td>0.067808</td>\n",
       "      <td>0.069764</td>\n",
       "      <td>0.072312</td>\n",
       "      <td>...</td>\n",
       "      <td>0.003175</td>\n",
       "      <td>0.003219</td>\n",
       "      <td>0.003278</td>\n",
       "      <td>0.003322</td>\n",
       "      <td>0.003322</td>\n",
       "      <td>0.003316</td>\n",
       "      <td>0.003342</td>\n",
       "      <td>0.003356</td>\n",
       "      <td>0.003449</td>\n",
       "      <td>0.003477</td>\n",
       "    </tr>\n",
       "    <tr>\n",
       "      <th>4</th>\n",
       "      <td>0.046892</td>\n",
       "      <td>0.046960</td>\n",
       "      <td>0.047410</td>\n",
       "      <td>0.048015</td>\n",
       "      <td>0.048978</td>\n",
       "      <td>0.050440</td>\n",
       "      <td>0.051759</td>\n",
       "      <td>0.053912</td>\n",
       "      <td>0.056001</td>\n",
       "      <td>0.058646</td>\n",
       "      <td>...</td>\n",
       "      <td>0.002431</td>\n",
       "      <td>0.002464</td>\n",
       "      <td>0.002514</td>\n",
       "      <td>0.002556</td>\n",
       "      <td>0.002569</td>\n",
       "      <td>0.002575</td>\n",
       "      <td>0.002601</td>\n",
       "      <td>0.002612</td>\n",
       "      <td>0.002682</td>\n",
       "      <td>0.002707</td>\n",
       "    </tr>\n",
       "  </tbody>\n",
       "</table>\n",
       "<p>5 rows × 212992 columns</p>\n",
       "</div>"
      ],
      "text/plain": [
       "     0         1         2         3         4         5         6       \\\n",
       "0  0.029906  0.029966  0.030309  0.030796  0.031416  0.032287  0.033070   \n",
       "1  0.036382  0.036422  0.037247  0.038167  0.039070  0.040425  0.041987   \n",
       "2  0.052094  0.052163  0.053443  0.054901  0.056389  0.058324  0.059946   \n",
       "3  0.058165  0.058295  0.058967  0.060233  0.061705  0.063699  0.065276   \n",
       "4  0.046892  0.046960  0.047410  0.048015  0.048978  0.050440  0.051759   \n",
       "\n",
       "     7         8         9       ...    212982    212983    212984    212985  \\\n",
       "0  0.034066  0.034605  0.035202  ...  0.001995  0.002029  0.002075  0.002117   \n",
       "1  0.043970  0.045392  0.046388  ...  0.002016  0.002039  0.002079  0.002113   \n",
       "2  0.062324  0.064029  0.065721  ...  0.002488  0.002516  0.002557  0.002587   \n",
       "3  0.067808  0.069764  0.072312  ...  0.003175  0.003219  0.003278  0.003322   \n",
       "4  0.053912  0.056001  0.058646  ...  0.002431  0.002464  0.002514  0.002556   \n",
       "\n",
       "     212986    212987    212988    212989    212990    212991  \n",
       "0  0.002136  0.002145  0.002170  0.002176  0.002229  0.002250  \n",
       "1  0.002131  0.002137  0.002159  0.002165  0.002215  0.002237  \n",
       "2  0.002587  0.002582  0.002600  0.002603  0.002661  0.002683  \n",
       "3  0.003322  0.003316  0.003342  0.003356  0.003449  0.003477  \n",
       "4  0.002569  0.002575  0.002601  0.002612  0.002682  0.002707  \n",
       "\n",
       "[5 rows x 212992 columns]"
      ]
     },
     "execution_count": 6,
     "metadata": {},
     "output_type": "execute_result"
    }
   ],
   "source": [
    "uncert.head()"
   ]
  },
  {
   "cell_type": "code",
   "execution_count": 7,
   "metadata": {
    "ExecuteTime": {
     "end_time": "2021-03-11T07:12:46.510631Z",
     "start_time": "2021-03-11T07:12:46.480921Z"
    }
   },
   "outputs": [
    {
     "data": {
      "text/html": [
       "<div>\n",
       "<style scoped>\n",
       "    .dataframe tbody tr th:only-of-type {\n",
       "        vertical-align: middle;\n",
       "    }\n",
       "\n",
       "    .dataframe tbody tr th {\n",
       "        vertical-align: top;\n",
       "    }\n",
       "\n",
       "    .dataframe thead th {\n",
       "        text-align: right;\n",
       "    }\n",
       "</style>\n",
       "<table border=\"1\" class=\"dataframe\">\n",
       "  <thead>\n",
       "    <tr style=\"text-align: right;\">\n",
       "      <th></th>\n",
       "      <th>112992</th>\n",
       "      <th>112993</th>\n",
       "      <th>112994</th>\n",
       "      <th>112995</th>\n",
       "      <th>112996</th>\n",
       "      <th>112997</th>\n",
       "      <th>112998</th>\n",
       "      <th>112999</th>\n",
       "    </tr>\n",
       "  </thead>\n",
       "  <tbody>\n",
       "    <tr>\n",
       "      <th>count</th>\n",
       "      <td>1591.000000</td>\n",
       "      <td>1591.000000</td>\n",
       "      <td>1591.000000</td>\n",
       "      <td>1591.000000</td>\n",
       "      <td>1591.000000</td>\n",
       "      <td>1591.000000</td>\n",
       "      <td>1591.000000</td>\n",
       "      <td>1591.000000</td>\n",
       "    </tr>\n",
       "    <tr>\n",
       "      <th>mean</th>\n",
       "      <td>0.018834</td>\n",
       "      <td>0.018729</td>\n",
       "      <td>0.018795</td>\n",
       "      <td>0.018791</td>\n",
       "      <td>0.018882</td>\n",
       "      <td>0.018877</td>\n",
       "      <td>0.019133</td>\n",
       "      <td>0.019197</td>\n",
       "    </tr>\n",
       "    <tr>\n",
       "      <th>std</th>\n",
       "      <td>0.030696</td>\n",
       "      <td>0.030061</td>\n",
       "      <td>0.030449</td>\n",
       "      <td>0.030549</td>\n",
       "      <td>0.030463</td>\n",
       "      <td>0.030113</td>\n",
       "      <td>0.030966</td>\n",
       "      <td>0.030976</td>\n",
       "    </tr>\n",
       "    <tr>\n",
       "      <th>min</th>\n",
       "      <td>0.001538</td>\n",
       "      <td>0.001539</td>\n",
       "      <td>0.001549</td>\n",
       "      <td>0.001549</td>\n",
       "      <td>0.001566</td>\n",
       "      <td>0.001568</td>\n",
       "      <td>0.001581</td>\n",
       "      <td>0.001581</td>\n",
       "    </tr>\n",
       "    <tr>\n",
       "      <th>25%</th>\n",
       "      <td>0.004717</td>\n",
       "      <td>0.004722</td>\n",
       "      <td>0.004688</td>\n",
       "      <td>0.004659</td>\n",
       "      <td>0.004669</td>\n",
       "      <td>0.004691</td>\n",
       "      <td>0.004700</td>\n",
       "      <td>0.004671</td>\n",
       "    </tr>\n",
       "    <tr>\n",
       "      <th>50%</th>\n",
       "      <td>0.009224</td>\n",
       "      <td>0.009156</td>\n",
       "      <td>0.009195</td>\n",
       "      <td>0.009130</td>\n",
       "      <td>0.009193</td>\n",
       "      <td>0.009085</td>\n",
       "      <td>0.009096</td>\n",
       "      <td>0.009081</td>\n",
       "    </tr>\n",
       "    <tr>\n",
       "      <th>75%</th>\n",
       "      <td>0.019010</td>\n",
       "      <td>0.019151</td>\n",
       "      <td>0.018948</td>\n",
       "      <td>0.019212</td>\n",
       "      <td>0.019249</td>\n",
       "      <td>0.019108</td>\n",
       "      <td>0.019178</td>\n",
       "      <td>0.019058</td>\n",
       "    </tr>\n",
       "    <tr>\n",
       "      <th>max</th>\n",
       "      <td>0.329504</td>\n",
       "      <td>0.295225</td>\n",
       "      <td>0.298520</td>\n",
       "      <td>0.316192</td>\n",
       "      <td>0.284338</td>\n",
       "      <td>0.285311</td>\n",
       "      <td>0.302662</td>\n",
       "      <td>0.304747</td>\n",
       "    </tr>\n",
       "  </tbody>\n",
       "</table>\n",
       "</div>"
      ],
      "text/plain": [
       "            112992       112993       112994       112995       112996  \\\n",
       "count  1591.000000  1591.000000  1591.000000  1591.000000  1591.000000   \n",
       "mean      0.018834     0.018729     0.018795     0.018791     0.018882   \n",
       "std       0.030696     0.030061     0.030449     0.030549     0.030463   \n",
       "min       0.001538     0.001539     0.001549     0.001549     0.001566   \n",
       "25%       0.004717     0.004722     0.004688     0.004659     0.004669   \n",
       "50%       0.009224     0.009156     0.009195     0.009130     0.009193   \n",
       "75%       0.019010     0.019151     0.018948     0.019212     0.019249   \n",
       "max       0.329504     0.295225     0.298520     0.316192     0.284338   \n",
       "\n",
       "            112997       112998       112999  \n",
       "count  1591.000000  1591.000000  1591.000000  \n",
       "mean      0.018877     0.019133     0.019197  \n",
       "std       0.030113     0.030966     0.030976  \n",
       "min       0.001568     0.001581     0.001581  \n",
       "25%       0.004691     0.004700     0.004671  \n",
       "50%       0.009085     0.009096     0.009081  \n",
       "75%       0.019108     0.019178     0.019058  \n",
       "max       0.285311     0.302662     0.304747  "
      ]
     },
     "execution_count": 7,
     "metadata": {},
     "output_type": "execute_result"
    }
   ],
   "source": [
    "uncert.iloc[:,112992:112992+8].describe()"
   ]
  },
  {
   "cell_type": "code",
   "execution_count": 5,
   "metadata": {
    "ExecuteTime": {
     "end_time": "2021-03-11T07:12:34.493515Z",
     "start_time": "2021-03-11T07:12:33.078202Z"
    }
   },
   "outputs": [
    {
     "data": {
      "text/plain": [
       "0         0.261745\n",
       "1         0.261195\n",
       "2         0.263858\n",
       "3         0.266126\n",
       "4         0.264801\n",
       "            ...   \n",
       "212987    0.019442\n",
       "212988    0.019300\n",
       "212989    0.019340\n",
       "212990    0.019443\n",
       "212991    0.019489\n",
       "Length: 212992, dtype: float64"
      ]
     },
     "execution_count": 5,
     "metadata": {},
     "output_type": "execute_result"
    }
   ],
   "source": [
    "uncert.max()"
   ]
  },
  {
   "cell_type": "markdown",
   "metadata": {
    "ExecuteTime": {
     "end_time": "2021-03-11T07:04:05.278454Z",
     "start_time": "2021-03-11T07:04:05.274057Z"
    }
   },
   "source": [
    "## 修改"
   ]
  },
  {
   "cell_type": "code",
   "execution_count": 2,
   "metadata": {
    "ExecuteTime": {
     "end_time": "2021-03-11T07:18:19.058710Z",
     "start_time": "2021-03-11T07:18:14.646076Z"
    }
   },
   "outputs": [],
   "source": [
    "uncert = np.exp(np.load('uncertatinty.npy'))"
   ]
  },
  {
   "cell_type": "code",
   "execution_count": 3,
   "metadata": {
    "ExecuteTime": {
     "end_time": "2021-03-11T07:18:20.230703Z",
     "start_time": "2021-03-11T07:18:19.059745Z"
    }
   },
   "outputs": [],
   "source": [
    "uncert = 1.0 / uncert\n",
    "uncert = uncert / uncert.max() * 255"
   ]
  },
  {
   "cell_type": "code",
   "execution_count": 5,
   "metadata": {
    "ExecuteTime": {
     "end_time": "2021-03-11T07:18:38.295235Z",
     "start_time": "2021-03-11T07:18:38.280856Z"
    }
   },
   "outputs": [],
   "source": [
    "for idx, arr in enumerate(uncert):\n",
    "    cv.imwrite('uncertainties/{:06d}.png'.format(idx), arr)\n",
    "    break"
   ]
  },
  {
   "cell_type": "code",
   "execution_count": 5,
   "metadata": {
    "ExecuteTime": {
     "end_time": "2021-03-11T08:16:00.714103Z",
     "start_time": "2021-03-11T08:16:00.697094Z"
    }
   },
   "outputs": [],
   "source": [
    "img = cv.imread('../09_resized/uncertainties/{:06d}.png'.format(0))"
   ]
  },
  {
   "cell_type": "code",
   "execution_count": 8,
   "metadata": {
    "ExecuteTime": {
     "end_time": "2021-03-11T08:16:12.196854Z",
     "start_time": "2021-03-11T08:16:12.193322Z"
    }
   },
   "outputs": [
    {
     "data": {
      "text/plain": [
       "array([[[  7,   7,   7],\n",
       "        [  7,   7,   7],\n",
       "        [  7,   7,   7],\n",
       "        ...,\n",
       "        [  6,   6,   6],\n",
       "        [  6,   6,   6],\n",
       "        [  6,   6,   6]],\n",
       "\n",
       "       [[  7,   7,   7],\n",
       "        [  7,   7,   7],\n",
       "        [  7,   7,   7],\n",
       "        ...,\n",
       "        [  6,   6,   6],\n",
       "        [  6,   6,   6],\n",
       "        [  6,   6,   6]],\n",
       "\n",
       "       [[  7,   7,   7],\n",
       "        [  7,   7,   7],\n",
       "        [  7,   7,   7],\n",
       "        ...,\n",
       "        [  6,   6,   6],\n",
       "        [  6,   6,   6],\n",
       "        [  6,   6,   6]],\n",
       "\n",
       "       ...,\n",
       "\n",
       "       [[123, 123, 123],\n",
       "        [123, 123, 123],\n",
       "        [124, 124, 124],\n",
       "        ...,\n",
       "        [ 88,  88,  88],\n",
       "        [ 87,  87,  87],\n",
       "        [ 87,  87,  87]],\n",
       "\n",
       "       [[124, 124, 124],\n",
       "        [124, 124, 124],\n",
       "        [124, 124, 124],\n",
       "        ...,\n",
       "        [ 88,  88,  88],\n",
       "        [ 87,  87,  87],\n",
       "        [ 87,  87,  87]],\n",
       "\n",
       "       [[124, 124, 124],\n",
       "        [124, 124, 124],\n",
       "        [124, 124, 124],\n",
       "        ...,\n",
       "        [ 89,  89,  89],\n",
       "        [ 88,  88,  88],\n",
       "        [ 87,  87,  87]]], dtype=uint8)"
      ]
     },
     "execution_count": 8,
     "metadata": {},
     "output_type": "execute_result"
    }
   ],
   "source": [
    "img"
   ]
  },
  {
   "cell_type": "code",
   "execution_count": null,
   "metadata": {},
   "outputs": [],
   "source": []
  }
 ],
 "metadata": {
  "kernelspec": {
   "display_name": "Python [conda env:torch]",
   "language": "python",
   "name": "conda-env-torch-py"
  },
  "language_info": {
   "codemirror_mode": {
    "name": "ipython",
    "version": 3
   },
   "file_extension": ".py",
   "mimetype": "text/x-python",
   "name": "python",
   "nbconvert_exporter": "python",
   "pygments_lexer": "ipython3",
   "version": "3.6.10"
  },
  "toc": {
   "base_numbering": 1,
   "nav_menu": {},
   "number_sections": true,
   "sideBar": true,
   "skip_h1_title": false,
   "title_cell": "Table of Contents",
   "title_sidebar": "Contents",
   "toc_cell": false,
   "toc_position": {},
   "toc_section_display": true,
   "toc_window_display": false
  }
 },
 "nbformat": 4,
 "nbformat_minor": 4
}
