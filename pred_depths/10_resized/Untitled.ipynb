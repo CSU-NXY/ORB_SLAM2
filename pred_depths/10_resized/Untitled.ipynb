{
 "cells": [
  {
   "cell_type": "code",
   "execution_count": 1,
   "metadata": {
    "ExecuteTime": {
     "end_time": "2021-03-11T01:31:04.467570Z",
     "start_time": "2021-03-11T01:31:04.186956Z"
    }
   },
   "outputs": [],
   "source": [
    "import numpy as np\n",
    "import cv2 as cv"
   ]
  },
  {
   "cell_type": "code",
   "execution_count": 2,
   "metadata": {
    "ExecuteTime": {
     "end_time": "2021-03-11T01:31:08.591226Z",
     "start_time": "2021-03-11T01:31:04.568138Z"
    }
   },
   "outputs": [],
   "source": [
    "pred = np.load('../10/predictions.npy')"
   ]
  },
  {
   "cell_type": "code",
   "execution_count": 3,
   "metadata": {
    "ExecuteTime": {
     "end_time": "2021-03-11T01:31:08.605977Z",
     "start_time": "2021-03-11T01:31:08.596118Z"
    }
   },
   "outputs": [
    {
     "data": {
      "text/plain": [
       "(1201, 256, 832)"
      ]
     },
     "execution_count": 3,
     "metadata": {},
     "output_type": "execute_result"
    }
   ],
   "source": [
    "pred.shape"
   ]
  },
  {
   "cell_type": "code",
   "execution_count": 4,
   "metadata": {
    "ExecuteTime": {
     "end_time": "2021-03-11T01:31:08.883700Z",
     "start_time": "2021-03-11T01:31:08.607295Z"
    }
   },
   "outputs": [],
   "source": [
    "pred *= (255.0 / pred.max())"
   ]
  },
  {
   "cell_type": "code",
   "execution_count": 5,
   "metadata": {
    "ExecuteTime": {
     "end_time": "2021-03-11T01:31:11.461338Z",
     "start_time": "2021-03-11T01:31:11.345448Z"
    }
   },
   "outputs": [
    {
     "data": {
      "text/plain": [
       "255.0"
      ]
     },
     "execution_count": 5,
     "metadata": {},
     "output_type": "execute_result"
    }
   ],
   "source": [
    "pred.max()"
   ]
  },
  {
   "cell_type": "code",
   "execution_count": 6,
   "metadata": {
    "ExecuteTime": {
     "end_time": "2021-03-11T01:31:47.959467Z",
     "start_time": "2021-03-11T01:31:47.956252Z"
    }
   },
   "outputs": [
    {
     "data": {
      "text/plain": [
       "1.7212500000000002"
      ]
     },
     "execution_count": 6,
     "metadata": {},
     "output_type": "execute_result"
    }
   ],
   "source": [
    "0.54/80*255 * "
   ]
  },
  {
   "cell_type": "code",
   "execution_count": 5,
   "metadata": {
    "ExecuteTime": {
     "end_time": "2021-03-11T01:12:57.808999Z",
     "start_time": "2021-03-11T01:12:54.395770Z"
    }
   },
   "outputs": [],
   "source": [
    "for idx, p in enumerate(pred):\n",
    "    p = cv.resize(p, (1226, 370))\n",
    "    cv.imwrite('predictions/' + '{:06d}.png'.format(idx), p)"
   ]
  },
  {
   "cell_type": "code",
   "execution_count": null,
   "metadata": {},
   "outputs": [],
   "source": []
  }
 ],
 "metadata": {
  "kernelspec": {
   "display_name": "Python [conda env:torch] *",
   "language": "python",
   "name": "conda-env-torch-py"
  },
  "language_info": {
   "codemirror_mode": {
    "name": "ipython",
    "version": 3
   },
   "file_extension": ".py",
   "mimetype": "text/x-python",
   "name": "python",
   "nbconvert_exporter": "python",
   "pygments_lexer": "ipython3",
   "version": "3.6.10"
  },
  "toc": {
   "base_numbering": 1,
   "nav_menu": {},
   "number_sections": true,
   "sideBar": true,
   "skip_h1_title": false,
   "title_cell": "Table of Contents",
   "title_sidebar": "Contents",
   "toc_cell": false,
   "toc_position": {},
   "toc_section_display": true,
   "toc_window_display": false
  }
 },
 "nbformat": 4,
 "nbformat_minor": 4
}
